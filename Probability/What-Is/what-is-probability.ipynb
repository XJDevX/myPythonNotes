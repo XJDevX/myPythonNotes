{
 "cells": [
  {
   "cell_type": "markdown",
   "metadata": {},
   "source": [
    "## **What's probability?**\n",
    "The probability is used in situations that we have to take decisions with incomplete information, one example of this are the **casino's games**. We can say that the ***\"Probability is the language that gives us tools to cuantify the uncertainty\"***\n",
    "\n",
    "![ways](./imgs/ways.png)\n",
    "\n",
    "## **Probability's Elements**\n",
    "The probability has Axiomes, these are the basic knowledges to use probability and it doesn't have to be confirmed.\n",
    "- **Elemental Success:** *\"The result of throwing a dice is 4\"* -> $P = \\frac{N°.successful.events}{N°.total.events}$\n",
    "\n",
    "**Frequentist view:** This school is based on the **Elemental Success** by saying that every event has the same probability, but the problem with this way is that the total events are uncertain because when we make less events, the probability of every one will change, **If you throw a coin 10 times, it probably won't fall 3 times in face and 5 times in price**. This model serves when we are using a lot of events, because the more events we make, the more certain the result will be."
   ]
  }
 ],
 "metadata": {
  "language_info": {
   "name": "python"
  }
 },
 "nbformat": 4,
 "nbformat_minor": 2
}
