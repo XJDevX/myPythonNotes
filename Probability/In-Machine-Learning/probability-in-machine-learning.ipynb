{
 "cells": [
  {
   "cell_type": "markdown",
   "metadata": {},
   "source": [
    "## **Probability in Machine Learning**\n",
    "The probability is used in Machine Learning in the clasification model, this model based on giving probability to every topic that is in a text documents, this helps to resume and give the dominant topic of the file.\n",
    "\n",
    "<img src=\"./imgs/classification-model.png\" alt=\"Classification-Model\" width=500px height=260px>\n",
    "\n",
    "When using Machine Learning models, all of them use probability in every way, because the Machine Learning works on the most common values and the ones related with the search that we are giving to the model, the probability is something that every AI has to use."
   ]
  }
 ],
 "metadata": {
  "language_info": {
   "name": "python"
  }
 },
 "nbformat": 4,
 "nbformat_minor": 2
}
