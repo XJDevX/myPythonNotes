{
 "cells": [
  {
   "cell_type": "markdown",
   "metadata": {},
   "source": [
    "# ***Perceptron***\n",
    "The Perceptrons **simulare the form of a Neuron**, with this we can generate neuronal webs, which can be used like Artificial Intelligence, ther're represented as:\n",
    "\n",
    "**Perceptron:**\n",
    "\n",
    "![Perceptron](https://upload.wikimedia.org/wikipedia/commons/thumb/b/b0/Perceptr%C3%B3n_5_unidades.svg/400px-Perceptr%C3%B3n_5_unidades.svg.png)\n",
    "\n",
    "**Parts of the Perceptron:**\n",
    "- **Inputs:** Interpret characteristics, like a product or an object, ***(Normally used with binary numbers)***.\n",
    "- **Weights:** Numbers that regulate the importance of the input. **Ex:** *The price of the product is more important than the seller or the ubication.****(It's multiplied $x_1$ by $w_1$ ...)***\n",
    "- **Weighted sum:** All the data are summed to obtain the linear result. *(Low specifity)*.\n",
    "- **Activation function:** Gives a no linear behavior to the Weighted Sum. *(Boost the specifity)*."
   ]
  },
  {
   "cell_type": "markdown",
   "metadata": {},
   "source": [
    "### ***Artificial neuronal web***\n",
    "It's made of **various Perceptrons or artificial neurons** that according to the result of everyone, it can be obtained a lot of desicions according to the statements of the Neuronal Model:\n",
    "\n",
    "![Red_Neuronal](https://live.staticflickr.com/65535/51551048353_355a969e1c_b.jpg)"
   ]
  }
 ],
 "metadata": {
  "language_info": {
   "name": "python"
  }
 },
 "nbformat": 4,
 "nbformat_minor": 2
}
