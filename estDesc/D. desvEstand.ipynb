{
 "cells": [
  {
   "cell_type": "markdown",
   "metadata": {},
   "source": [
    "### ***Desviacion estandar***\n",
    "Es la medida de dispersion mas usada en el campo de estadistica descriptiva, esta se realiza de la siguiente manera:\n",
    "- **Dataset a trabajar:** $(x_1, x_2, ..., x_n) = dataset$\n",
    "- **Media del Dataset:** $\\bar{x} = \\mu = \\frac{1}{N} \\sum_{i=1}^{N} {x_i} = media$\n",
    "- **Varianza de la media en los percentiles:** $\\frac{1}{N} \\sum_{i=1}^{N} {(x_i - \\mu)^2} = varianza = \\sigma^2$, esto se hace porque al tener los percentiles **Q1** y **Q3** se pueden llegar a tener valores negativos, entonces para evitar esto se eleva la media entre esos dos valores al cuadrado.\n",
    "- **Desviacion estandar:** $\\sigma = \\sqrt{\\frac{1}{N} \\sum_{i=1}^{N} {(x_i - \\mu)^2}}$, la desviacion estandar es la varianza elevada al cuadrado."
   ]
  }
 ],
 "metadata": {
  "language_info": {
   "name": "python"
  }
 },
 "nbformat": 4,
 "nbformat_minor": 2
}
