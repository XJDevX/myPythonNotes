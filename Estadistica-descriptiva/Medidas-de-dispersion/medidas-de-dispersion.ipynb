{
 "cells": [
  {
   "cell_type": "markdown",
   "metadata": {},
   "source": [
    "### ***Medidas de dispersion***\n",
    "Las tres medidas de dispersion mas usadas son:\n",
    "- Rango.\n",
    "- Rango intercuartil.\n",
    "- Desviacion estandar.\n",
    "\n",
    "Estos rangos se dividen en:\n",
    "\n",
    "- *Q2* o *median* es la mediana del conjunto o el valor de la mitad.\n",
    "- *Q1* es la mitad entre la *mediana* y el valor **minimo**.\n",
    "- *Q3* es la mitad entre la *mediana* y el valor **maximo**.\n",
    "\n",
    "![Cuartiles](https://blogger.googleusercontent.com/img/b/R29vZ2xl/AVvXsEj5PCPSou6QYWt_V3VTUzTzD0Iyp5Vw58yV5agtLJpqXT0Vy-bMjGReeXtuDKrGK4B0Z3kWDnVQ2T9WPVnATD1AODJvBGc9mtnCqAPyeM4Ttl6CAwiBTmZxq7Xwf9yUxeOWfoudPAeEh8de/s320/CAJA1.jpg)\n"
   ]
  }
 ],
 "metadata": {
  "language_info": {
   "name": "python"
  }
 },
 "nbformat": 4,
 "nbformat_minor": 2
}
