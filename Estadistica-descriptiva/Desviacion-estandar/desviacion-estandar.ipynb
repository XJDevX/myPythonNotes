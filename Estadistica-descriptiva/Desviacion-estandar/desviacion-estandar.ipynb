{
 "cells": [
  {
   "cell_type": "markdown",
   "metadata": {},
   "source": [
    "### ***Desviacion estandar***\n",
    "Es la medida de dispersion mas usada en el campo de estadistica descriptiva, esta se realiza de la siguiente manera:\n",
    "\n",
    "![Como-poner-desviacion-estandar](https://raw.githubusercontent.com/XJDevX/myPythonNotes/main/estDesc/Desviacion-estandar/como-poner-desviacion-estandar.png)\n",
    "\n",
    "Algunos de sus usos son:\n",
    "\n",
    "![Usos-desviacion-estandar](https://raw.githubusercontent.com/XJDevX/myPythonNotes/main/estDesc/Desviacion-estandar/usos-desviacion-estandar.png)"
   ]
  }
 ],
 "metadata": {
  "language_info": {
   "name": "python"
  }
 },
 "nbformat": 4,
 "nbformat_minor": 2
}
