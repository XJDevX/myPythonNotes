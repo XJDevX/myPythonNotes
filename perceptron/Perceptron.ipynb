{
 "cells": [
  {
   "cell_type": "markdown",
   "metadata": {},
   "source": [
    "# ***Perceptron***\n",
    "Los Perceptrones **simulan la forma de una neurona**, con esto se generan redes neuronales las cuales pueden ser utilizadas como inteligencia artificial, estos se representan como:\n",
    "\n",
    "**Perceptron:**\n",
    "\n",
    "![Perceptron](https://upload.wikimedia.org/wikipedia/commons/thumb/b/b0/Perceptr%C3%B3n_5_unidades.svg/400px-Perceptr%C3%B3n_5_unidades.svg.png)\n",
    "\n",
    "**Partes del Perceptron:**\n",
    "\n",
    "> **Señales de entrada:** Interpreta caracteristicas, como un producto u objeto. *(Normalmente se manejan numeros binarios)*\n",
    "\n",
    "> **Pesos sinapticos:** Son numeros encargados de regular la importancia de la señal de entrada. **Ej:** *El precio del producto es mas importante que el vendedor o la ubicacion*. ***(Se multiplica $x_1$ por $w_1$ ...)***\n",
    "\n",
    "> **Union sumadora:** Se suman todos los datos para conseguir un resultado lineal. *(Poca especificidad)*\n",
    "\n",
    "> **Funcion de activacion:** Le da un comportamiento no lineal a la Union Sumadora. *(Mejorar la especificidad)"
   ]
  },
  {
   "cell_type": "markdown",
   "metadata": {},
   "source": [
    "### ***Red neuronal artificial***\n",
    "Esta compuesta de **varios Perceptrones o Neuronas artificiales** que segun el resultado de cada una se pueden obtener distintas decisiones segun las condiciones del modelo de Red Neuronal, estas se representan como:\n",
    "\n",
    "![Red_Neuronal](https://live.staticflickr.com/65535/51551048353_355a969e1c_b.jpg)"
   ]
  }
 ],
 "metadata": {
  "language_info": {
   "name": "python"
  }
 },
 "nbformat": 4,
 "nbformat_minor": 2
}
