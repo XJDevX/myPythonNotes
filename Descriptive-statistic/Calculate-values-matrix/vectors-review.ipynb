{
 "cells": [
  {
   "cell_type": "markdown",
   "metadata": {},
   "source": [
    "## ***Vectors review***\n",
    "A vector is a Matrix with only one column which lenght is equal to the matrix's one:\n",
    "\n",
    "![Vectors](https://raw.githubusercontent.com/XJDevX/myPythonNotes/main/Descriptive-statistic/Calculate-values-matrix/imgs/vectors.png)\n",
    "\n",
    "When we multiply a Matrix for a Vector the result will be a vector, its operation is similar to the Matrices:\n",
    "\n",
    "![Vectors-mult](https://raw.githubusercontent.com/XJDevX/myPythonNotes/main/Descriptive-statistic/Calculate-values-matrix/imgs/vectors-mult.png)\n",
    "\n",
    "We also have the point or inner product, this product is made of the multiplication of two Vectors:\n",
    "\n",
    "![Point-product](https://raw.githubusercontent.com/XJDevX/myPythonNotes/main/Descriptive-statistic/Calculate-values-matrix/imgs/point-product.png)\n",
    "\n",
    "![Point-product](https://raw.githubusercontent.com/XJDevX/myPythonNotes/main/Descriptive-statistic/Calculate-values-matrix/imgs/that-rule.png)\n",
    "\n",
    "This reminds us to that rule of multiply vectors like $x$ by $x$ and $y$ by $y$. When we draw the first element of $x$ and the second element of $y$ looks like:\n",
    "\n",
    "![x-y-cartesian-plane](https://raw.githubusercontent.com/XJDevX/myPythonNotes/main/Descriptive-statistic/Calculate-values-matrix/imgs/x-y-cartesian-plane.png)\n",
    "\n",
    "And we can see that this shape has a similude with the Pitagoras' theoreme\n",
    "\n",
    "![Pitagoras'-theoreme](https://raw.githubusercontent.com/XJDevX/myPythonNotes/main/Descriptive-statistic/Calculate-values-matrix/imgs/pitagoras-theoreme-vectors.png)\n",
    "\n",
    "![Pitagoras-operation](https://raw.githubusercontent.com/XJDevX/myPythonNotes/main/Descriptive-statistic/Calculate-values-matrix/imgs/pitagoras-oper.png)"
   ]
  }
 ],
 "metadata": {
  "language_info": {
   "name": "python"
  }
 },
 "nbformat": 4,
 "nbformat_minor": 2
}
