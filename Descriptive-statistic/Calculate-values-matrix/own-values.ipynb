{
 "cells": [
  {
   "cell_type": "code",
   "execution_count": 1,
   "metadata": {},
   "outputs": [],
   "source": [
    "#Modules\n",
    "import numpy as np"
   ]
  },
  {
   "cell_type": "markdown",
   "metadata": {},
   "source": [
    "## ***Own values of a Matrix and a Vector***"
   ]
  },
  {
   "cell_type": "markdown",
   "metadata": {},
   "source": [
    "In lineal algebra we can have operations which an incognite is a vector, lets plant the following example:\n",
    "\n",
    "![Incognite-oper](https://raw.githubusercontent.com/XJDevX/myPythonNotes/main/Descriptive-statistic/Calculate-values-matrix/imgs/incognite-oper.png)\n",
    "\n",
    "Here A is a square matrix of NxN which elements we know perfectly and X is a column vector which elements are unknown. Here we have to remeber that multiply a vector by a number is simply multiply every element of the vector by that element or number.\n",
    "So this operation ask us:\n",
    "There are X vectors that at the moment of multiply them by the A matrix could be the same as multiply them by just one value or number?\n",
    "If that vector exist and it's associated to a specific value of Λ, so we say that the X vector is part of the Matrix A and Λ is its value.\n",
    "\n",
    "![Incognite-oper2](https://raw.githubusercontent.com/XJDevX/myPythonNotes/main/Descriptive-statistic/Calculate-values-matrix/imgs/incognite-oper2.png)\n",
    "\n",
    "This can be transformed in the ecuation system (Making the product of the matrix for vector)\n",
    "\n",
    "![Incognite-oper3](https://raw.githubusercontent.com/XJDevX/myPythonNotes/main/Descriptive-statistic/Calculate-values-matrix/imgs/incognite-oper3.png)"
   ]
  },
  {
   "cell_type": "code",
   "execution_count": 5,
   "metadata": {},
   "outputs": [
    {
     "name": "stdout",
     "output_type": "stream",
     "text": [
      "[ 2. -1.]\n",
      "[[ 0.89442719 -0.70710678]\n",
      " [ 0.4472136   0.70710678]]\n"
     ]
    }
   ],
   "source": [
    "#Own values of a Matrix and a Vector\n",
    "A = np.array([[1, 2], [1, 0]])\n",
    "values, vectors = np.linalg.eig(A) #Calculate directly the own values and vectors\n",
    "print(values) #The matrix has two own values\n",
    "print(vectors) #And they have them own associated values"
   ]
  },
  {
   "cell_type": "markdown",
   "metadata": {},
   "source": [
    "Here is important to check that the values that gives \"np.linalg.eig(A)\" are column vectors that in a manner that the elements in the first column of \"vectors\" match with the \"values\" ones:\n",
    "\n",
    "![Own-value1](https://raw.githubusercontent.com/XJDevX/myPythonNotes/main/Descriptive-statistic/Calculate-values-matrix/imgs/own-value1.png)\n",
    "\n",
    "![Own-value2](https://raw.githubusercontent.com/XJDevX/myPythonNotes/main/Descriptive-statistic/Calculate-values-matrix/imgs/own-value2.png)\n"
   ]
  },
  {
   "cell_type": "markdown",
   "metadata": {},
   "source": [
    "You can verify that every vector and its respective own value fullfill the original ecuation executing:"
   ]
  },
  {
   "cell_type": "code",
   "execution_count": 8,
   "metadata": {},
   "outputs": [
    {
     "name": "stdout",
     "output_type": "stream",
     "text": [
      "[ 0.70710678 -0.70710678]\n"
     ]
    },
    {
     "data": {
      "text/plain": [
       "array([ 0.70710678, -0.70710678])"
      ]
     },
     "execution_count": 8,
     "metadata": {},
     "output_type": "execute_result"
    }
   ],
   "source": [
    "print(np.matmul(A, vectors.T[1]))\n",
    "values[1]*vectors.T[1]"
   ]
  },
  {
   "cell_type": "markdown",
   "metadata": {},
   "source": [
    "One of the most important functions of having the own values is for diagonalizate it. Generally it's defined an A matrix \"diagonalizable\" if it's possible to write it as:\n",
    "\n",
    "![Diagonalizate1](https://raw.githubusercontent.com/XJDevX/myPythonNotes/main/Descriptive-statistic/Calculate-values-matrix/imgs/diagonalizate1.png)\n",
    "\n",
    "Which D is a diagonal matrix, an example could be:\n",
    "\n",
    "![Diagonalizate2](https://raw.githubusercontent.com/XJDevX/myPythonNotes/main/Descriptive-statistic/Calculate-values-matrix/imgs/diagonalizate2.png)\n",
    "\n",
    "Here, the mathematical result good known is that if a matrix is diagonalizable, the D matrix is made by putting down its own values on the diagonal and the P matrix is made by putting every column the own values, following the same order in the D matrix, like:\n",
    "\n",
    "![Diagonalizate3](https://raw.githubusercontent.com/XJDevX/myPythonNotes/main/Descriptive-statistic/Calculate-values-matrix/imgs/diagonalizate3.png)\n",
    "\n",
    "The important to study this, is because when we appoly this operation to a covariance matrix, the vectors represent the direcctions along of which ones have more variance in that group of values, which the quantity of variance is proporcional to the own value of every own value.\n"
   ]
  }
 ],
 "metadata": {
  "kernelspec": {
   "display_name": "Python 3",
   "language": "python",
   "name": "python3"
  },
  "language_info": {
   "codemirror_mode": {
    "name": "ipython",
    "version": 3
   },
   "file_extension": ".py",
   "mimetype": "text/x-python",
   "name": "python",
   "nbconvert_exporter": "python",
   "pygments_lexer": "ipython3",
   "version": "3.10.12"
  }
 },
 "nbformat": 4,
 "nbformat_minor": 2
}
