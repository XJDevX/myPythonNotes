{
 "cells": [
  {
   "cell_type": "markdown",
   "metadata": {},
   "source": [
    "## ***Calculate own values of the Matrix***"
   ]
  },
  {
   "cell_type": "markdown",
   "metadata": {},
   "source": [
    "#### ***Matrices Review***\n",
    "The Matrix is a mathematical object that have a certain number of rows and columns (These numbers are called the **\"Dimensions of the Matrix\"**).\n",
    "\n",
    "The Matrix have an special operation called **Transpose**, this operation locates every row as a column in a new matrix, **example:**\n",
    "\n",
    "![Transpose](https://raw.githubusercontent.com/XJDevX/myPythonNotes/main/Descriptive-statistic/Statistics/imgs/transpose.png)\n",
    "\n",
    "We can also sum and substract the values of the Matrix:\n",
    "\n",
    "![Matrix-operations](https://raw.githubusercontent.com/XJDevX/myPythonNotes/main/Descriptive-statistic/Statistics/imgs/matrix-operations.png)\n",
    "\n",
    "##### ***Matrix Multiplication***\n",
    "First, lets define the indexes of the matrix as:\n",
    "\n",
    "![Matrix-indexes](https://raw.githubusercontent.com/XJDevX/myPythonNotes/main/Descriptive-statistic/Statistics/imgs/matrix-indexes.png)"
   ]
  }
 ],
 "metadata": {
  "language_info": {
   "name": "python"
  }
 },
 "nbformat": 4,
 "nbformat_minor": 2
}
