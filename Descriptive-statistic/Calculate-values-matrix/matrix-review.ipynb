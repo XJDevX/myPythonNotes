{
 "cells": [
  {
   "cell_type": "code",
   "execution_count": 2,
   "metadata": {},
   "outputs": [],
   "source": [
    "#Modules\n",
    "import numpy as np"
   ]
  },
  {
   "cell_type": "markdown",
   "metadata": {},
   "source": [
    "## ***Matrix Review***"
   ]
  },
  {
   "cell_type": "markdown",
   "metadata": {},
   "source": [
    "The Matrix is a mathematical object that have a certain number of rows and columns (These numbers are called the **\"Dimensions of the Matrix\"**).\n",
    "\n",
    "The Matrix have an special operation called **Transpose**, this operation locates every row as a column in a new matrix, **example:**\n",
    "\n",
    "![Transpose](https://raw.githubusercontent.com/XJDevX/myPythonNotes/main/Descriptive-statistic/Calculate-values-matrix/imgs/transpose.png)\n",
    "\n",
    "We can also sum and substract the values of the Matrix:\n",
    "\n",
    "![Matrix-operations](https://raw.githubusercontent.com/XJDevX/myPythonNotes/main/Descriptive-statistic/Calculate-values-matrix/imgs/matrix-operations.png)"
   ]
  },
  {
   "cell_type": "markdown",
   "metadata": {},
   "source": [
    "### ***Matrix Multiplication***\n",
    "First, lets define the indexes of the matrix as:\n",
    "\n",
    "![Matrix-indexes](https://raw.githubusercontent.com/XJDevX/myPythonNotes/main/Descriptive-statistic/Calculate-values-matrix/imgs/matrix-indexes.png)\n",
    "\n",
    "Here, every algebraic expresion has the form of 2 indexes, these denote the rows and the columns:\n",
    "\n",
    "![2-indexes-oper](https://raw.githubusercontent.com/XJDevX/myPythonNotes/main/Descriptive-statistic/Calculate-values-matrix/imgs/two-indexes-oper.png)\n",
    "\n",
    "The previous example equivals to say that the element of the row one and the column one of the result matrix, is the sum of the products of the elements of the first row and the elements of the first column:\n",
    "\n",
    "![Matrix-multiplication](https://raw.githubusercontent.com/XJDevX/myPythonNotes/main/Descriptive-statistic/Calculate-values-matrix/imgs/matrix-multiplication.png)\n",
    "\n",
    "Lets see another example:\n",
    "\n",
    "![Other-example](https://raw.githubusercontent.com/XJDevX/myPythonNotes/main/Descriptive-statistic/Calculate-values-matrix/imgs/other-example.png)\n",
    "\n",
    "In this example the element of the first row and the second column of the result matrix, is the sum of the products of the elements of the first row and the elements of the second column."
   ]
  },
  {
   "cell_type": "markdown",
   "metadata": {},
   "source": [
    "### ***Matrix Multiplication with Python***"
   ]
  },
  {
   "cell_type": "code",
   "execution_count": 7,
   "metadata": {},
   "outputs": [
    {
     "data": {
      "text/plain": [
       "array([[19, 22],\n",
       "       [43, 50]])"
      ]
     },
     "execution_count": 7,
     "metadata": {},
     "output_type": "execute_result"
    }
   ],
   "source": [
    "#Matrix Multiplication\n",
    "a = np.array([[1, 2],[3, 4]])\n",
    "b = np.array([[5, 6],[7, 8]]) #First index of the result matrix is (19) because: 1*5 + 2*7 = 19\n",
    "mult = np.matmul(a, b)\n",
    "mult"
   ]
  },
  {
   "cell_type": "markdown",
   "metadata": {},
   "source": [
    "### ***Inverse Matrix***"
   ]
  },
  {
   "cell_type": "code",
   "execution_count": 10,
   "metadata": {},
   "outputs": [
    {
     "data": {
      "text/plain": [
       "array([[-2. ,  1. ],\n",
       "       [ 1.5, -0.5]])"
      ]
     },
     "execution_count": 10,
     "metadata": {},
     "output_type": "execute_result"
    }
   ],
   "source": [
    "#Inverse a Matrix\n",
    "a = np.array([[1, 2],[3, 4]])\n",
    "inverse_a = np.linalg.inv(a) #Inverse Matrix\n",
    "inverse_a"
   ]
  }
 ],
 "metadata": {
  "kernelspec": {
   "display_name": "Python 3",
   "language": "python",
   "name": "python3"
  },
  "language_info": {
   "codemirror_mode": {
    "name": "ipython",
    "version": 3
   },
   "file_extension": ".py",
   "mimetype": "text/x-python",
   "name": "python",
   "nbconvert_exporter": "python",
   "pygments_lexer": "ipython3",
   "version": "3.10.12"
  }
 },
 "nbformat": 4,
 "nbformat_minor": 2
}
