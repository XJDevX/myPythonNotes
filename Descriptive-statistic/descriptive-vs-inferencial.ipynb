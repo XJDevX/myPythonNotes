{
 "cells": [
  {
   "cell_type": "markdown",
   "metadata": {},
   "source": [
    "## ***Descriptive vs inferencial Statistics***\n",
    "The statistics are divided in two sections:\n",
    "- **Descriptive statistic:** Gives data based on the past, giving the history and its statistics.\n",
    "- **Inferencial statistic:** Predicts the data based on the past."
   ]
  },
  {
   "cell_type": "markdown",
   "metadata": {},
   "source": [
    "#### ***Be careful, you can lie with Statistics***\n",
    "When you're doing statistics you can give more importance to other things than the ones that should be more important, and with this you can clasify in a specific way the data, this probably is an issue because everyone can lie and show us false data. (Remember \"There isn't a true definition of average or statistics\")"
   ]
  }
 ],
 "metadata": {
  "language_info": {
   "name": "python"
  }
 },
 "nbformat": 4,
 "nbformat_minor": 2
}
