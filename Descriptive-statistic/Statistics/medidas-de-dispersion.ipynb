{
 "cells": [
  {
   "cell_type": "markdown",
   "metadata": {},
   "source": [
    "### ***Dispersion measurements***\n",
    "The three more used measurements are:\n",
    "- Range.\n",
    "- Interquartilic range.\n",
    "- Standard desviation.\n",
    "\n",
    "These range are divided in:\n",
    "- *Q2* or *median*, it's the value of the middle.\n",
    "- *Q1* is the middle between the *median* and the **minimum value.**\n",
    "- *Q3* is the middle between the *median* and the **maximum value.**\n",
    "\n",
    "![Quartils](https://raw.githubusercontent.com/XJDevX/myPythonNotes/main/Descriptive-stadistic/imgs/iqr.png)\n"
   ]
  }
 ],
 "metadata": {
  "language_info": {
   "name": "python"
  }
 },
 "nbformat": 4,
 "nbformat_minor": 2
}
