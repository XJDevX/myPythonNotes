{
 "cells": [
  {
   "cell_type": "markdown",
   "metadata": {},
   "source": [
    "## ***Correlations***\n",
    "The union of two variables, this is more visible in a scatter plot.\n",
    "- **Covariance:** $cov = \\frac{1}{n-1}\\sum^n_{i=1}(x_i-\\hat{x})(y_i-\\hat{y})$.\n",
    "- **Correlation Coefficient:** $\\rho=\\frac{cov}{std(x)std(y)}$"
   ]
  }
 ],
 "metadata": {
  "language_info": {
   "name": "python"
  }
 },
 "nbformat": 4,
 "nbformat_minor": 2
}
