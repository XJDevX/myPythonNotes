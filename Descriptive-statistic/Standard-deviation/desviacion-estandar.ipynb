{
 "cells": [
  {
   "cell_type": "markdown",
   "metadata": {},
   "source": [
    "### ***Standard deviation***\n",
    "Is the most used measurement in the area of descriptive statistic, it's made as:\n",
    "- Use the variance: $\\frac{1}{n} \\sum^n_i=1 (x_i - \\mu) = \\sigma^2$.\n",
    "- Squate root the variance: $\\sqrt{\\frac{1}{n} \\sum^n_i=1 (x_i - \\mu)} = \\sigma$\n",
    "\n",
    "![Standard-deviation](https://raw.githubusercontent.com/XJDevX/myPythonNotes/main/Descriptive-statistic/Standard-deviation/imgs/standard-deviation.png)\n",
    "\n",
    "Some of its uses are:\n",
    "- **Normal distribution:** A distribution that is symmetric.\n",
    "- **Asymmetric distribution:** A distribution that is irregular.\n",
    "\n",
    "How to calculate the IQR:\n",
    "- With this, the 99.72% of the values are covered. \n",
    "- It's called \"Outlier\" to the value that isn't in the range: $[\\mu-3\\sigma, \\mu+3\\sigma]$\n",
    "- The previous range is called ***Inter Quartilic Range***.\n",
    "\n",
    "![Normal-distribution](https://raw.githubusercontent.com/XJDevX/myPythonNotes/main/Descriptive-statistic/Standard-deviation/imgs/normal-distribution.png)"
   ]
  }
 ],
 "metadata": {
  "language_info": {
   "name": "python"
  }
 },
 "nbformat": 4,
 "nbformat_minor": 2
}
